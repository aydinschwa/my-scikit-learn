{
 "cells": [
  {
   "cell_type": "code",
   "execution_count": 1,
   "id": "63960d29",
   "metadata": {},
   "outputs": [],
   "source": [
    "import sklearn.datasets\n",
    "from dtree import DecisionTreeClassifier, DecisionTreeRegressor\n",
    "from random_forest import RandomForestClassifier, RandomForestRegressor\n",
    "from error_funcs import rmse"
   ]
  },
  {
   "cell_type": "markdown",
   "id": "51ec15be",
   "metadata": {},
   "source": [
    "# Testing Classification Tree"
   ]
  },
  {
   "cell_type": "code",
   "execution_count": 2,
   "id": "009e47f3",
   "metadata": {},
   "outputs": [
    {
     "name": "stdout",
     "output_type": "stream",
     "text": [
      "0\n",
      "0\n"
     ]
    }
   ],
   "source": [
    "# note: all iris data is numeric\n",
    "\n",
    "iris_df = sklearn.datasets.load_iris()\n",
    "data = iris_df[\"data\"]\n",
    "target = iris_df[\"target\"]\n",
    "\n",
    "tree = DecisionTreeClassifier()\n",
    "tree.fit(data, target)\n",
    "a = 10\n",
    "print(tree.predict(iris_df[\"data\"][a]))\n",
    "print(iris_df[\"target\"][a])"
   ]
  },
  {
   "cell_type": "code",
   "execution_count": 3,
   "id": "ecd358cd",
   "metadata": {},
   "outputs": [
    {
     "name": "stdout",
     "output_type": "stream",
     "text": [
      "100.0% accurate\n"
     ]
    }
   ],
   "source": [
    "correct = 0\n",
    "for i in range(len(iris_df[\"data\"])):\n",
    "    pred = tree.predict(iris_df[\"data\"][i])\n",
    "    true = iris_df[\"target\"][i]\n",
    "    if pred == true:\n",
    "        correct += 1        \n",
    "print(f\"{correct / len(iris_df['data']) * 100}% accurate\")"
   ]
  },
  {
   "cell_type": "markdown",
   "id": "dd48805e",
   "metadata": {},
   "source": [
    "# Testing Regression Tree"
   ]
  },
  {
   "cell_type": "code",
   "execution_count": 4,
   "id": "a050b3dd",
   "metadata": {},
   "outputs": [
    {
     "name": "stderr",
     "output_type": "stream",
     "text": [
      "/usr/local/anaconda3/lib/python3.10/site-packages/numpy/core/fromnumeric.py:3432: RuntimeWarning: Mean of empty slice.\n",
      "  return _methods._mean(a, axis=axis, dtype=dtype,\n",
      "/usr/local/anaconda3/lib/python3.10/site-packages/numpy/core/_methods.py:190: RuntimeWarning: invalid value encountered in double_scalars\n",
      "  ret = ret.dtype.type(ret / rcount)\n"
     ]
    },
    {
     "data": {
      "text/plain": [
       "0.0"
      ]
     },
     "execution_count": 4,
     "metadata": {},
     "output_type": "execute_result"
    }
   ],
   "source": [
    "diabetes_df = sklearn.datasets.load_diabetes()\n",
    "data = diabetes_df[\"data\"]\n",
    "target = diabetes_df[\"target\"]\n",
    "tree = DecisionTreeRegressor()\n",
    "tree.fit(data, target)\n",
    "pred = [tree.predict(diabetes_df[\"data\"][i]) for i in range(len(target))]\n",
    "rmse(pred, diabetes_df[\"target\"])\n"
   ]
  },
  {
   "cell_type": "code",
   "execution_count": 5,
   "id": "985e8852",
   "metadata": {},
   "outputs": [],
   "source": [
    "from sklearn.tree import DecisionTreeRegressor\n",
    "regressor = DecisionTreeRegressor()\n",
    "\n",
    "# Train the regressor\n",
    "regressor.fit(data, target)\n",
    "\n",
    "y_pred = regressor.predict(data)\n",
    "rmse(y_pred, target)"
   ]
  },
  {
   "cell_type": "markdown",
   "id": "887f3fae",
   "metadata": {},
   "source": [
    "# Random Forest"
   ]
  },
  {
   "cell_type": "code",
   "execution_count": 6,
   "id": "a5278da5",
   "metadata": {},
   "outputs": [
    {
     "data": {
      "text/plain": [
       "1"
      ]
     },
     "execution_count": 6,
     "metadata": {},
     "output_type": "execute_result"
    }
   ],
   "source": [
    "iris_df = sklearn.datasets.load_iris()\n",
    "data = iris_df[\"data\"]\n",
    "target = iris_df[\"target\"]\n",
    "rf = RandomForestClassifier()\n",
    "rf.fit(data, target)\n",
    "rf.predict(data[50])"
   ]
  },
  {
   "cell_type": "code",
   "execution_count": 7,
   "id": "7754a5f0",
   "metadata": {},
   "outputs": [
    {
     "name": "stderr",
     "output_type": "stream",
     "text": [
      "/usr/local/anaconda3/lib/python3.10/site-packages/numpy/core/fromnumeric.py:3432: RuntimeWarning: Mean of empty slice.\n",
      "  return _methods._mean(a, axis=axis, dtype=dtype,\n",
      "/usr/local/anaconda3/lib/python3.10/site-packages/numpy/core/_methods.py:190: RuntimeWarning: invalid value encountered in double_scalars\n",
      "  ret = ret.dtype.type(ret / rcount)\n"
     ]
    },
    {
     "ename": "IndexError",
     "evalue": "list index out of range",
     "output_type": "error",
     "traceback": [
      "\u001b[0;31m---------------------------------------------------------------------------\u001b[0m",
      "\u001b[0;31mIndexError\u001b[0m                                Traceback (most recent call last)",
      "Cell \u001b[0;32mIn[7], line 6\u001b[0m\n\u001b[1;32m      4\u001b[0m rf \u001b[39m=\u001b[39m RandomForestRegressor()\n\u001b[1;32m      5\u001b[0m rf\u001b[39m.\u001b[39mfit(data, target)\n\u001b[0;32m----> 6\u001b[0m y_pred \u001b[39m=\u001b[39m rf\u001b[39m.\u001b[39;49mpredict(data)\n\u001b[1;32m      8\u001b[0m rmse(y_pred, target)\n",
      "File \u001b[0;32m~/Desktop/ds_playground/random_forest.py:50\u001b[0m, in \u001b[0;36mRandomForestRegressor.predict\u001b[0;34m(self, X)\u001b[0m\n\u001b[1;32m     48\u001b[0m predictions\u001b[39m=\u001b[39m []\n\u001b[1;32m     49\u001b[0m \u001b[39mfor\u001b[39;00m sample \u001b[39min\u001b[39;00m X:\n\u001b[0;32m---> 50\u001b[0m     predictions\u001b[39m.\u001b[39mappend(np\u001b[39m.\u001b[39mmean([tree\u001b[39m.\u001b[39mpredict([sample]) \u001b[39mfor\u001b[39;00m tree \u001b[39min\u001b[39;00m \u001b[39mself\u001b[39m\u001b[39m.\u001b[39mtrees]))\n\u001b[1;32m     51\u001b[0m \u001b[39mreturn\u001b[39;00m np\u001b[39m.\u001b[39marray(predictions)\n",
      "File \u001b[0;32m~/Desktop/ds_playground/random_forest.py:50\u001b[0m, in \u001b[0;36m<listcomp>\u001b[0;34m(.0)\u001b[0m\n\u001b[1;32m     48\u001b[0m predictions\u001b[39m=\u001b[39m []\n\u001b[1;32m     49\u001b[0m \u001b[39mfor\u001b[39;00m sample \u001b[39min\u001b[39;00m X:\n\u001b[0;32m---> 50\u001b[0m     predictions\u001b[39m.\u001b[39mappend(np\u001b[39m.\u001b[39mmean([tree\u001b[39m.\u001b[39;49mpredict([sample]) \u001b[39mfor\u001b[39;00m tree \u001b[39min\u001b[39;00m \u001b[39mself\u001b[39m\u001b[39m.\u001b[39mtrees]))\n\u001b[1;32m     51\u001b[0m \u001b[39mreturn\u001b[39;00m np\u001b[39m.\u001b[39marray(predictions)\n",
      "File \u001b[0;32m~/Desktop/ds_playground/dtree.py:71\u001b[0m, in \u001b[0;36mDecisionTreeBase.predict\u001b[0;34m(self, X)\u001b[0m\n\u001b[1;32m     69\u001b[0m \u001b[39mif\u001b[39;00m \u001b[39mself\u001b[39m\u001b[39m.\u001b[39mis_leaf:\n\u001b[1;32m     70\u001b[0m     \u001b[39mreturn\u001b[39;00m \u001b[39mself\u001b[39m\u001b[39m.\u001b[39mleaf_predict(\u001b[39mself\u001b[39m\u001b[39m.\u001b[39my_vals)\n\u001b[0;32m---> 71\u001b[0m \u001b[39mif\u001b[39;00m X[\u001b[39mself\u001b[39;49m\u001b[39m.\u001b[39;49msplit_col] \u001b[39m<\u001b[39m\u001b[39m=\u001b[39m \u001b[39mself\u001b[39m\u001b[39m.\u001b[39msplit_val:\n\u001b[1;32m     72\u001b[0m     \u001b[39mreturn\u001b[39;00m \u001b[39mself\u001b[39m\u001b[39m.\u001b[39ml_child\u001b[39m.\u001b[39mpredict(X)\n\u001b[1;32m     73\u001b[0m \u001b[39melse\u001b[39;00m:\n",
      "\u001b[0;31mIndexError\u001b[0m: list index out of range"
     ]
    }
   ],
   "source": [
    "diabetes_df = sklearn.datasets.load_diabetes()\n",
    "data = diabetes_df[\"data\"]\n",
    "target = diabetes_df[\"target\"]\n",
    "rf = RandomForestRegressor()\n",
    "rf.fit(data, target)\n",
    "y_pred = rf.predict(data)\n",
    "\n",
    "rmse(y_pred, target)\n"
   ]
  },
  {
   "cell_type": "code",
   "execution_count": null,
   "id": "456c5b47",
   "metadata": {},
   "outputs": [
    {
     "data": {
      "text/plain": [
       "21.43960028562193"
      ]
     },
     "execution_count": 19,
     "metadata": {},
     "output_type": "execute_result"
    }
   ],
   "source": [
    "from sklearn.ensemble import RandomForestRegressor\n",
    "regressor = RandomForestRegressor()\n",
    "\n",
    "diabetes_df = sklearn.datasets.load_diabetes()\n",
    "data = diabetes_df[\"data\"]\n",
    "target = diabetes_df[\"target\"]\n",
    "\n",
    "# Train the regressor\n",
    "regressor.fit(data, target)\n",
    "\n",
    "y_pred = regressor.predict(data)\n",
    "rmse(y_pred, target)"
   ]
  }
 ],
 "metadata": {
  "kernelspec": {
   "display_name": "Python 3 (ipykernel)",
   "language": "python",
   "name": "python3"
  },
  "language_info": {
   "codemirror_mode": {
    "name": "ipython",
    "version": 3
   },
   "file_extension": ".py",
   "mimetype": "text/x-python",
   "name": "python",
   "nbconvert_exporter": "python",
   "pygments_lexer": "ipython3",
   "version": "3.10.9"
  }
 },
 "nbformat": 4,
 "nbformat_minor": 5
}
